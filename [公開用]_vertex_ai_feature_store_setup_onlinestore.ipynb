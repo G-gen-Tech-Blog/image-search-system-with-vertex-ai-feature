{
  "nbformat": 4,
  "nbformat_minor": 0,
  "metadata": {
    "colab": {
      "provenance": [],
      "name": "[公開用] vertex-ai-feature-store-setup-onlinestore.ipynb"
    },
    "kernelspec": {
      "name": "python3",
      "display_name": "Python 3"
    },
    "language_info": {
      "name": "python"
    }
  },
  "cells": [
    {
      "cell_type": "code",
      "execution_count": null,
      "metadata": {
        "id": "hwUmJyhki0HW"
      },
      "outputs": [],
      "source": [
        "# Install the packages\n",
        "! pip3 install --upgrade google-cloud-aiplatform \\\n",
        "                         google-cloud-bigquery\\\n",
        "                         google-cloud-storage\\\n",
        "                         bigframes\\\n",
        "                         pandas-gbq\\\n",
        "                         db-dtypes"
      ]
    },
    {
      "cell_type": "code",
      "source": [
        "from google.colab import auth\n",
        "auth.authenticate_user()"
      ],
      "metadata": {
        "id": "02W__MiVi9Ei"
      },
      "execution_count": null,
      "outputs": []
    },
    {
      "cell_type": "code",
      "source": [
        "# BigQuery関連の設定\n",
        "PROJECT_ID = \"\"  # @param {type:\"string\"} Google CloudプロジェクトID\n",
        "REGION = \"us-central1\"  # @param {type:\"string\"} 使用するリージョン\n",
        "BQ_DATASET_ID = \"\"  # @param {type:\"string\"} BigQueryのデータセットID\n",
        "BQ_TABLE_ID = \"\"  # @param {type:\"string\"} BigQueryのテーブルID\n",
        "\n",
        "# Feature Storeの設定\n",
        "FEATURE_ONLINE_STORE_ID = \"\"  # @param {type:\"string\"} Feature StoreのオンラインストアID\n",
        "FEATURE_VIEW_ID = \"\"  # @param {type:\"string\"} Feature StoreのビューID\n",
        "\n",
        "# スケジュール設定\n",
        "# スケジュールはCRON設定に基づいて作成されます。\n",
        "# CRONが空の場合、即時スケジュールジョブが開始されます。\n",
        "CRON_SCHEDULE = \"TZ=Asia/Tokyo 0 9 * * *\"  # @param {type:\"string\"} スケジュール設定（東京時間で毎日午前9時）\n",
        "\n",
        "# ベクトル検索の設定\n",
        "DIMENSIONS = 1408  # @param {type:\"number\"} ベクトルの次元数\n",
        "EMBEDDING_COLUMN = \"embedding\"  # @param {type:\"string\"} 埋め込みを保持する列名\n",
        "\n",
        "# オプショナル設定\n",
        "LEAF_NODE_EMBEDDING_COUNT = 10000  # @param {type:\"number\"} リーフノードの埋め込み数（オプショナル）\n",
        "FILTER_COLUMNS = [\"title\"]  # @param {type:\"string\"} フィルタリングに使用する列（オプショナル）\n",
        "\n",
        "# Feature Store のデータソースとなる BigQuery テーブルを定義\n",
        "BQ_TABLE_ID_FQN = f\"{BQ_DATASET_ID}.{BQ_TABLE_ID}\"\n",
        "DATA_SOURCE = f\"bq://{PROJECT_ID}.{BQ_TABLE_ID_FQN}\"\n",
        "\n",
        "# オンラインストアのエンドポイント\n",
        "API_ENDPOINT = f\"{REGION}-aiplatform.googleapis.com\""
      ],
      "metadata": {
        "id": "E-wi1hJBjGzz"
      },
      "execution_count": null,
      "outputs": []
    },
    {
      "cell_type": "code",
      "source": [
        "# Google Cloud AI Platform関連のインポート\n",
        "from google.cloud import aiplatform\n",
        "from google.cloud.aiplatform_v1beta1 import (\n",
        "    FeatureOnlineStoreAdminServiceClient,\n",
        "    FeatureOnlineStoreServiceClient\n",
        ")\n",
        "from google.cloud.aiplatform_v1beta1.types import (\n",
        "    NearestNeighborQuery,\n",
        "    feature_online_store as feature_online_store_pb2,\n",
        "    feature_online_store_admin_service as feature_online_store_admin_service_pb2,\n",
        "    feature_online_store_service as feature_online_store_service_pb2,\n",
        "    feature_view as feature_view_pb2\n",
        ")\n",
        "from google.protobuf import struct_pb2\n",
        "\n",
        "# Google Cloud BigQuery関連のインポート\n",
        "from google.cloud import bigquery\n",
        "\n",
        "# Google Cloud Storage関連のインポート\n",
        "from google.cloud import storage\n",
        "\n",
        "# その他のインポート\n",
        "import bigframes.pandas as bpd\n",
        "import random\n",
        "import base64\n",
        "import time\n",
        "import typing\n",
        "\n",
        "\n",
        "aiplatform.init(project=PROJECT_ID, location=REGION)\n",
        "\n",
        "admin_client = FeatureOnlineStoreAdminServiceClient(\n",
        "    client_options={\"api_endpoint\": API_ENDPOINT}\n",
        ")\n",
        "\n",
        "API_ENDPOINT = f\"{REGION}-aiplatform.googleapis.com\""
      ],
      "metadata": {
        "id": "zz79BxeGjvgv"
      },
      "execution_count": null,
      "outputs": []
    },
    {
      "cell_type": "code",
      "source": [
        "# BigQuery ソースを定義\n",
        "big_query_source = feature_view_pb2.FeatureView.BigQuerySource(\n",
        "    uri=DATA_SOURCE, entity_id_columns=[\"image_path\"]\n",
        ")\n",
        "\n",
        "# オンラインストア用の Config 設定\n",
        "online_store_config = feature_online_store_pb2.FeatureOnlineStore(\n",
        "    bigtable=feature_online_store_pb2.FeatureOnlineStore.Bigtable(\n",
        "        auto_scaling=feature_online_store_pb2.FeatureOnlineStore.Bigtable.AutoScaling(\n",
        "            min_node_count=1, max_node_count=3, cpu_utilization_target=50\n",
        "        )\n",
        "    ),\n",
        "    embedding_management=feature_online_store_pb2.FeatureOnlineStore.EmbeddingManagement(\n",
        "        enabled=True\n",
        "    ),\n",
        ")\n",
        "\n",
        "#  オンラインストアを作成する（新規）\n",
        "create_store_lro = admin_client.create_feature_online_store(\n",
        "    feature_online_store_admin_service_pb2.CreateFeatureOnlineStoreRequest(\n",
        "        parent=f\"projects/{PROJECT_ID}/locations/{REGION}\",\n",
        "        feature_online_store_id=FEATURE_ONLINE_STORE_ID,\n",
        "        feature_online_store=online_store_config,\n",
        "    )\n",
        ")\n",
        "\n",
        "\n",
        "# オンラインストアが正常に作成されたかを確認\n",
        "admin_client.get_feature_online_store(\n",
        "    name=f\"projects/{PROJECT_ID}/locations/{REGION}/featureOnlineStores/{FEATURE_ONLINE_STORE_ID}\"\n",
        ")"
      ],
      "metadata": {
        "id": "g-JK_6PQjQPD"
      },
      "execution_count": null,
      "outputs": []
    },
    {
      "cell_type": "code",
      "source": [
        "# BigQuery から オンラインストアへの同期ジョブのスケジュール設定\n",
        "sync_config = feature_view_pb2.FeatureView.SyncConfig(cron=CRON_SCHEDULE)\n",
        "\n",
        "# ベクトル検索の高速化設定を定義\n",
        "vector_search_config = feature_view_pb2.FeatureView.VectorSearchConfig(\n",
        "    embedding_column=EMBEDDING_COLUMN,\n",
        "    filter_columns=FILTER_COLUMNS,\n",
        "    # crowding_column=CROWDING_COLUMN,\n",
        "    embedding_dimension=DIMENSIONS,\n",
        "    tree_ah_config=feature_view_pb2.FeatureView.VectorSearchConfig.TreeAHConfig(),\n",
        ")\n",
        "\n",
        "# 特徴量ビューを作成\n",
        "create_view_lro = admin_client.create_feature_view(\n",
        "    feature_online_store_admin_service_pb2.CreateFeatureViewRequest(\n",
        "        parent=f\"projects/{PROJECT_ID}/locations/{REGION}/featureOnlineStores/{FEATURE_ONLINE_STORE_ID}\",\n",
        "        feature_view_id=FEATURE_VIEW_ID,\n",
        "        feature_view=feature_view_pb2.FeatureView(\n",
        "            big_query_source=big_query_source,\n",
        "            sync_config=sync_config,\n",
        "            vector_search_config=vector_search_config,\n",
        "        ),\n",
        "    )\n",
        ")\n",
        "\n",
        "# 特徴量ビューが作成されたか確認\n",
        "admin_client.get_feature_view(\n",
        "    name=f\"projects/{PROJECT_ID}/locations/{REGION}/featureOnlineStores/{FEATURE_ONLINE_STORE_ID}/featureViews/{FEATURE_VIEW_ID}\"\n",
        ")\n",
        "\n",
        "# その他の特徴量ビューについて確認\n",
        "admin_client.list_feature_views(\n",
        "    parent=f\"projects/{PROJECT_ID}/locations/{REGION}/featureOnlineStores/{FEATURE_ONLINE_STORE_ID}\"\n",
        ")"
      ],
      "metadata": {
        "id": "zrREwiDwkbdt"
      },
      "execution_count": null,
      "outputs": []
    },
    {
      "cell_type": "code",
      "source": [
        "# 手動での同期ジョブの実行\n",
        "sync_response = admin_client.sync_feature_view(\n",
        "    feature_view=f\"projects/{PROJECT_ID}/locations/{REGION}/featureOnlineStores/{FEATURE_ONLINE_STORE_ID}/featureViews/{FEATURE_VIEW_ID}\"\n",
        ")"
      ],
      "metadata": {
        "id": "3fXAwdNjlgb6"
      },
      "execution_count": null,
      "outputs": []
    },
    {
      "cell_type": "code",
      "source": [
        "import time\n",
        "\n",
        "# 同期ジョブが完了したかのポーリング\n",
        "while True:\n",
        "    feature_view_sync = admin_client.get_feature_view_sync(\n",
        "        name=sync_response.feature_view_sync\n",
        "    )\n",
        "    if feature_view_sync.run_time.end_time.seconds > 0:\n",
        "        status = \"Succeed\" if feature_view_sync.final_status.code == 0 else \"Failed\"\n",
        "        print(f\"Sync {status} for {feature_view_sync.name}.\")\n",
        "        # wait a little more for the job to properly shutdown\n",
        "        time.sleep(30)\n",
        "        break\n",
        "    else:\n",
        "        print(\"Sync ongoing, waiting for 30 seconds.\")\n",
        "    time.sleep(30)"
      ],
      "metadata": {
        "id": "xWH1lEpLlnjc"
      },
      "execution_count": null,
      "outputs": []
    },
    {
      "cell_type": "code",
      "source": [
        "# オンラインストアのインスタンスからパブリックエンドポイントを取得\n",
        "featore_online_store_instance = admin_client.get_feature_online_store(\n",
        "    name=f\"projects/{PROJECT_ID}/locations/{REGION}/featureOnlineStores/{FEATURE_ONLINE_STORE_ID}\"\n",
        ")\n",
        "PUBLIC_ENDPOINT = (\n",
        "    featore_online_store_instance.dedicated_serving_endpoint.public_endpoint_domain_name\n",
        ")\n",
        "\n",
        "# 近傍検索の時に以下のURLを指定\n",
        "print(f\"PUBLIC_ENDPOINT for online serving: {PUBLIC_ENDPOINT}\")"
      ],
      "metadata": {
        "id": "1I7_izNulyw_"
      },
      "execution_count": null,
      "outputs": []
    }
  ]
}